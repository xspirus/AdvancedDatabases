{
 "cells": [
  {
   "cell_type": "markdown",
   "metadata": {},
   "source": [
    "<h1><center>Προχωρημένα Θέματα Βάσεων Δεδομένων</center></h1>\n",
    "<h2><center>Εξαμηνιαία Εργασία</center></h2>\n",
    "<hr>\n",
    "\n",
    "| Ονοματεπώνυμο      | Αριθμός Μητρώου |\n",
    "| ------------------ | --------------- |\n",
    "| Δοντάς Σπυρίδων    | 03114141        |\n",
    "| Τσιούρβας Αστέριος | 03114133        |"
   ]
  },
  {
   "cell_type": "markdown",
   "metadata": {},
   "source": [
    "<h1><center>Ερώτημα 1</center></h1>\n",
    "<hr>"
   ]
  },
  {
   "cell_type": "code",
   "execution_count": 1,
   "metadata": {},
   "outputs": [],
   "source": [
    "import datetime as dt"
   ]
  },
  {
   "cell_type": "markdown",
   "metadata": {},
   "source": [
    "#### Read Data to RDDs"
   ]
  },
  {
   "cell_type": "code",
   "execution_count": 2,
   "metadata": {},
   "outputs": [],
   "source": [
    "vendors = sc.textFile(\"/Project/yellow_tripvendors_1m.csv\")\n",
    "data = sc.textFile(\"/Project/yellow_tripdata_1m.csv\")"
   ]
  },
  {
   "cell_type": "markdown",
   "metadata": {},
   "source": [
    "#### Key - Value break for trip duration"
   ]
  },
  {
   "cell_type": "code",
   "execution_count": 3,
   "metadata": {},
   "outputs": [],
   "source": [
    "def start_duration(line):\n",
    "    \"\"\"Function to map over RDD lines.\n",
    "    \n",
    "    Produces the necessary tuples for key - value processing.\n",
    "    The starttime of the trip becomes the key, while the duration\n",
    "    of the trip becomes the value.\n",
    "    \n",
    "    Parameters\n",
    "    ----------\n",
    "    \n",
    "    line: string\n",
    "        CSV delimited string from RDD.\n",
    "        \n",
    "    Returns\n",
    "    -------\n",
    "    \n",
    "    keyval: tuple of (string, float)\n",
    "        Key   -> starttime\n",
    "        Value -> duration\n",
    "    \"\"\"\n",
    "    contents = line.split(\",\")\n",
    "    start, end = contents[1], contents[2]\n",
    "    starttime = dt.datetime.strptime(start, \"%Y-%m-%d %H:%M:%S\")\n",
    "    endtime = dt.datetime.strptime(end, \"%Y-%m-%d %H:%M:%S\")\n",
    "    diff = endtime - starttime\n",
    "    diff = diff.total_seconds() / 60\n",
    "    return \"{:02d}\".format(starttime.hour), diff"
   ]
  },
  {
   "cell_type": "markdown",
   "metadata": {},
   "source": [
    "#### Map data"
   ]
  },
  {
   "cell_type": "code",
   "execution_count": 4,
   "metadata": {},
   "outputs": [],
   "source": [
    "ndata = data.map(start_duration)"
   ]
  },
  {
   "cell_type": "markdown",
   "metadata": {},
   "source": [
    "#### Find Average Duration per StartTime\n",
    "* make each value to a tuple of (value, 1)\n",
    "* reduce by key summing all tuples per element\n",
    "  * now for each key we have a tuple with `(sum(values), num(values))`\n",
    "* map each value tuple `(sum, len)` to `sum / num` (which is average)"
   ]
  },
  {
   "cell_type": "code",
   "execution_count": 5,
   "metadata": {},
   "outputs": [],
   "source": [
    "ndata = ndata.mapValues(lambda x: (x, 1))\\\n",
    "             .reduceByKey(lambda a, b: tuple(map(sum, zip(a, b))))\\\n",
    "             .mapValues(lambda x: x[0] / x[1])"
   ]
  },
  {
   "cell_type": "markdown",
   "metadata": {},
   "source": [
    "#### Save File\n",
    "* convert to dataframe with headers\n",
    "* gather to one partition\n",
    "* save as csv"
   ]
  },
  {
   "cell_type": "code",
   "execution_count": 6,
   "metadata": {},
   "outputs": [],
   "source": [
    "df = ndata.toDF([\"HourOfDay\", \"AverageTripDuration\"])\\\n",
    "          .sort(\"HourOfDay\")\n",
    "df.coalesce(1)\\\n",
    "  .write\\\n",
    "  .csv(\"/Project/TripDuration\", header=\"true\", mode=\"overwrite\")"
   ]
  },
  {
   "cell_type": "markdown",
   "metadata": {},
   "source": [
    "#### Show Results"
   ]
  },
  {
   "cell_type": "code",
   "execution_count": 7,
   "metadata": {},
   "outputs": [
    {
     "name": "stdout",
     "output_type": "stream",
     "text": [
      "+---------+-------------------+\n",
      "|HourOfDay|AverageTripDuration|\n",
      "+---------+-------------------+\n",
      "|       00|  14.01779373736224|\n",
      "|       01| 13.975069898907156|\n",
      "|       02| 13.035635592676691|\n",
      "|       03| 13.322282520526896|\n",
      "|       04| 13.799857931121979|\n",
      "|       05| 13.275583221175415|\n",
      "|       06| 12.487420237563251|\n",
      "|       07| 13.395006418527384|\n",
      "|       08| 14.627504543367854|\n",
      "|       09| 14.670106419765608|\n",
      "|       10|  14.65793916969826|\n",
      "|       11| 14.935821221905574|\n",
      "|       12| 15.130881322885706|\n",
      "|       13| 15.553918733195145|\n",
      "|       14| 16.523138380789458|\n",
      "|       15| 30.223498632126187|\n",
      "|       16|  17.21307206937467|\n",
      "|       17| 16.510825654408585|\n",
      "|       18|  15.29045374860121|\n",
      "|       19| 14.221208805985764|\n",
      "|       20| 13.575899636364237|\n",
      "|       21| 13.510855327392878|\n",
      "|       22| 14.231797625637382|\n",
      "|       23| 13.958471125232714|\n",
      "+---------+-------------------+\n",
      "\n"
     ]
    }
   ],
   "source": [
    "df.show(30)"
   ]
  },
  {
   "cell_type": "markdown",
   "metadata": {},
   "source": [
    "#### Key - Value break for price"
   ]
  },
  {
   "cell_type": "code",
   "execution_count": 8,
   "metadata": {},
   "outputs": [],
   "source": [
    "def id_price(line):\n",
    "    \"\"\"Function to map over RDD lines.\n",
    "    \n",
    "    Produces the necessary tuples for key - value processing.\n",
    "    The id of the trip becomes the key, while the price of\n",
    "    the trip becomes the value.\n",
    "    \n",
    "    Parameters\n",
    "    ----------\n",
    "    \n",
    "    line: string\n",
    "        CSV delimited string from RDD.\n",
    "        \n",
    "    Returns\n",
    "    -------\n",
    "    \n",
    "    idprice: tuple of (string, float)\n",
    "        Key   -> id of trip\n",
    "        Value -> price of trip\n",
    "    \"\"\"\n",
    "    contents = line.split(\",\")\n",
    "    return contents[0], float(contents[7])"
   ]
  },
  {
   "cell_type": "markdown",
   "metadata": {},
   "source": [
    "#### Map `vendors` and `data`"
   ]
  },
  {
   "cell_type": "code",
   "execution_count": 9,
   "metadata": {},
   "outputs": [],
   "source": [
    "# just make a tuple of the two values (trip id, vendor id)\n",
    "tvendors = vendors.map(lambda x: tuple(x.split(\",\")))\n",
    "prices = data.map(id_price)"
   ]
  },
  {
   "cell_type": "markdown",
   "metadata": {},
   "source": [
    "#### Inner Join `vendors` and `prices` based on trip id"
   ]
  },
  {
   "cell_type": "code",
   "execution_count": 10,
   "metadata": {},
   "outputs": [],
   "source": [
    "tvendors = tvendors.toDF([\"id\", \"company\"])\n",
    "prices = prices.toDF([\"id\", \"price\"])\n",
    "prices = tvendors.join(prices, on=\"id\", how=\"inner\")\n",
    "prices = prices.rdd"
   ]
  },
  {
   "cell_type": "markdown",
   "metadata": {},
   "source": [
    "#### Find max price per vendor id\n",
    "* map rdd to tuples of `(vendor id, price)`\n",
    "  * rdd after join has `Row` of `(id, company, price)`\n",
    "* reduce by key finding `max`"
   ]
  },
  {
   "cell_type": "code",
   "execution_count": 11,
   "metadata": {},
   "outputs": [],
   "source": [
    "prices = prices.map(lambda x: (x[\"company\"], x[\"price\"]))\\\n",
    "               .reduceByKey(max)"
   ]
  },
  {
   "cell_type": "markdown",
   "metadata": {},
   "source": [
    "#### Save File\n",
    "* convert to dataframe with headers\n",
    "* gather to one partition\n",
    "* save as csv"
   ]
  },
  {
   "cell_type": "code",
   "execution_count": 12,
   "metadata": {},
   "outputs": [],
   "source": [
    "df = prices.toDF([\"VendorID\", \"MaxAmountPaid\"])\n",
    "df.coalesce(1)\\\n",
    "  .write\\\n",
    "  .csv(\"/Project/MaxAmountPaid\", header=\"true\", mode=\"overwrite\")"
   ]
  },
  {
   "cell_type": "markdown",
   "metadata": {},
   "source": [
    "#### Show Results"
   ]
  },
  {
   "cell_type": "code",
   "execution_count": 13,
   "metadata": {},
   "outputs": [
    {
     "name": "stdout",
     "output_type": "stream",
     "text": [
      "+--------+-------------+\n",
      "|VendorID|MaxAmountPaid|\n",
      "+--------+-------------+\n",
      "|       1|    503326.33|\n",
      "|       2|    548463.35|\n",
      "+--------+-------------+\n",
      "\n"
     ]
    }
   ],
   "source": [
    "df.show()"
   ]
  }
 ],
 "metadata": {
  "kernelspec": {
   "display_name": "Python 3",
   "language": "python",
   "name": "python3"
  },
  "language_info": {
   "codemirror_mode": {
    "name": "ipython",
    "version": 3
   },
   "file_extension": ".py",
   "mimetype": "text/x-python",
   "name": "python",
   "nbconvert_exporter": "python",
   "pygments_lexer": "ipython3",
   "version": "3.5.2"
  }
 },
 "nbformat": 4,
 "nbformat_minor": 2
}
