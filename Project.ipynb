{
 "cells": [
  {
   "cell_type": "markdown",
   "metadata": {},
   "source": [
    "<h1><center>Προχωρημένα Θέματα Βάσεων Δεδομένων</center></h1>\n",
    "<h2><center>Εξαμηνιαία Εργασία</center></h2>\n",
    "<hr>\n",
    "\n",
    "| Ονοματεπώνυμο      | Αριθμός Μητρώου |\n",
    "| ------------------ | --------------- |\n",
    "| Δοντάς Σπυρίδων    | 03114141        |\n",
    "| Τσιούρβας Αστέριος | 03114133        |"
   ]
  },
  {
   "cell_type": "markdown",
   "metadata": {},
   "source": [
    "<hr>\n",
    "<h1><center>Προεργασία</center></h1>"
   ]
  },
  {
   "cell_type": "code",
   "execution_count": 1,
   "metadata": {},
   "outputs": [],
   "source": [
    "import datetime as dt\n",
    "import pandas as pd\n",
    "\n",
    "from IPython.display import display, HTML"
   ]
  },
  {
   "cell_type": "markdown",
   "metadata": {},
   "source": [
    "### Διάβασμα δεδομένων σε `RDDs`"
   ]
  },
  {
   "cell_type": "code",
   "execution_count": 2,
   "metadata": {},
   "outputs": [],
   "source": [
    "vendors = sc.textFile(\"/Project/yellow_tripvendors_1m.csv\")\n",
    "data = sc.textFile(\"/Project/yellow_tripdata_1m.csv\")"
   ]
  },
  {
   "cell_type": "markdown",
   "metadata": {},
   "source": [
    "<hr>\n",
    "<h1><center>Ερώτημα 1</center></h1>\n",
    "\n",
    "Σε αυτό το ερώτημα κληθήκαμε να υπολογίσουμε τα εξής:\n",
    "* το μέσο διάστημα διαδρομής ανά ώρα εκκίνησης διαδρομής\n",
    "* το μέγιστο ποσό που πληρώθηκε για κάθε εταιρεία"
   ]
  },
  {
   "cell_type": "markdown",
   "metadata": {},
   "source": [
    "### Συνάρτηση για δημιουργία `key - value`"
   ]
  },
  {
   "cell_type": "code",
   "execution_count": 3,
   "metadata": {},
   "outputs": [],
   "source": [
    "def start_duration(line):\n",
    "    \"\"\"Function to map over RDD lines.\n",
    "    \n",
    "    Produces the necessary tuples for key - value processing.\n",
    "    The starttime of the trip becomes the key, while the duration\n",
    "    of the trip becomes the value.\n",
    "    \n",
    "    Parameters\n",
    "    ----------\n",
    "    \n",
    "    line: string\n",
    "        CSV delimited string from RDD.\n",
    "        \n",
    "    Returns\n",
    "    -------\n",
    "    \n",
    "    keyval: tuple of (string, float)\n",
    "        Key   -> starttime\n",
    "        Value -> duration\n",
    "    \"\"\"\n",
    "    contents = line.split(\",\")\n",
    "    start, end = contents[1], contents[2]\n",
    "    starttime = dt.datetime.strptime(start, \"%Y-%m-%d %H:%M:%S\")\n",
    "    endtime = dt.datetime.strptime(end, \"%Y-%m-%d %H:%M:%S\")\n",
    "    diff = endtime - starttime\n",
    "    diff = diff.total_seconds() / 60\n",
    "    return \"{:02d}\".format(starttime.hour), diff"
   ]
  },
  {
   "cell_type": "markdown",
   "metadata": {},
   "source": [
    "### Map\n",
    "Με τη μέθοδο `map` δημιουργούμε ένα νέο `RDD` από `tuples` τις οποίες το `Spark` αντιμετωπίζει ως ζευγάρι `key - value`. Το παραπάνω θα ισχύει για όλες τις επόμενες χρήσεις μιας αρχικής κλήσης `map` πάνω στα αρχικά δεδομένα.\n",
    "***\n",
    "Συγκεκριμένα, εδώ θα έχουμε ως `key` την ώρα εκκίνησης της διαδρομής και ως `value` τη διάρκεια της διαδρομής. "
   ]
  },
  {
   "cell_type": "code",
   "execution_count": 4,
   "metadata": {},
   "outputs": [],
   "source": [
    "duration = data.map(start_duration)"
   ]
  },
  {
   "cell_type": "markdown",
   "metadata": {},
   "source": [
    "### Εύρεση μέσης διάρκειας διαδρομής ανά ώρα εκκίνησης\n",
    "* μετατρέπουμε κάθε τιμή σε `tuple` της μορφής `(value, 1)`\n",
    "* εφαρμόζουμε `reduceByKey` με μια συνάρτηση η οποία αθροίζει τα στοιχεία κάθε τούπλας\n",
    "  * σαν αποτέλεσμα για κάθε κλειδί θα έχουμε μία `tuple` της μορφής `(sum(values), num(values))`\n",
    "* εφαρμόζουμε για κάθε τιμή (που είναι της μορφής `(sum, len)`) τη συνάρτηση `sum / num` (η οποία παράγει το μέσο όρο)"
   ]
  },
  {
   "cell_type": "code",
   "execution_count": 5,
   "metadata": {},
   "outputs": [],
   "source": [
    "duration = duration.mapValues(lambda x: (x, 1))\\\n",
    "                   .reduceByKey(\n",
    "                        lambda a, b: tuple(map(sum, zip(a, b)))\n",
    "                    )\\\n",
    "                   .mapValues(lambda x: x[0] / x[1])"
   ]
  },
  {
   "cell_type": "markdown",
   "metadata": {},
   "source": [
    "### Αποθήκευση αρχείου στο `HDFS`\n",
    "* μετατρέπουμε το `RDD` σε `PySpark DataFrame` με `headers`\n",
    "* μαζεύουμε σε ένα `partition`\n",
    "* αποθηκεύουμε ως `csv`"
   ]
  },
  {
   "cell_type": "code",
   "execution_count": 6,
   "metadata": {},
   "outputs": [],
   "source": [
    "df = duration.toDF([\"HourOfDay\", \"AverageTripDuration\"])\\\n",
    "             .sort(\"HourOfDay\")\n",
    "df.coalesce(1)\\\n",
    "  .write\\\n",
    "  .csv(\"/Project/TripDuration\", header=\"true\", mode=\"overwrite\")"
   ]
  },
  {
   "cell_type": "markdown",
   "metadata": {},
   "source": [
    "### Εμφάνιση αποτελεσμάτων"
   ]
  },
  {
   "cell_type": "code",
   "execution_count": 7,
   "metadata": {},
   "outputs": [
    {
     "data": {
      "text/html": [
       "<table border=\"1\" class=\"dataframe\">\n",
       "  <thead>\n",
       "    <tr style=\"text-align: right;\">\n",
       "      <th>HourOfDay</th>\n",
       "      <th>AverageTripDuration</th>\n",
       "    </tr>\n",
       "  </thead>\n",
       "  <tbody>\n",
       "    <tr>\n",
       "      <td>00</td>\n",
       "      <td>14.017794</td>\n",
       "    </tr>\n",
       "    <tr>\n",
       "      <td>01</td>\n",
       "      <td>13.975070</td>\n",
       "    </tr>\n",
       "    <tr>\n",
       "      <td>02</td>\n",
       "      <td>13.035636</td>\n",
       "    </tr>\n",
       "    <tr>\n",
       "      <td>03</td>\n",
       "      <td>13.322283</td>\n",
       "    </tr>\n",
       "    <tr>\n",
       "      <td>04</td>\n",
       "      <td>13.799858</td>\n",
       "    </tr>\n",
       "    <tr>\n",
       "      <td>05</td>\n",
       "      <td>13.275583</td>\n",
       "    </tr>\n",
       "    <tr>\n",
       "      <td>06</td>\n",
       "      <td>12.487420</td>\n",
       "    </tr>\n",
       "    <tr>\n",
       "      <td>07</td>\n",
       "      <td>13.395006</td>\n",
       "    </tr>\n",
       "    <tr>\n",
       "      <td>08</td>\n",
       "      <td>14.627505</td>\n",
       "    </tr>\n",
       "    <tr>\n",
       "      <td>09</td>\n",
       "      <td>14.670106</td>\n",
       "    </tr>\n",
       "    <tr>\n",
       "      <td>10</td>\n",
       "      <td>14.657939</td>\n",
       "    </tr>\n",
       "    <tr>\n",
       "      <td>11</td>\n",
       "      <td>14.935821</td>\n",
       "    </tr>\n",
       "    <tr>\n",
       "      <td>12</td>\n",
       "      <td>15.130881</td>\n",
       "    </tr>\n",
       "    <tr>\n",
       "      <td>13</td>\n",
       "      <td>15.553919</td>\n",
       "    </tr>\n",
       "    <tr>\n",
       "      <td>14</td>\n",
       "      <td>16.523138</td>\n",
       "    </tr>\n",
       "    <tr>\n",
       "      <td>15</td>\n",
       "      <td>30.223499</td>\n",
       "    </tr>\n",
       "    <tr>\n",
       "      <td>16</td>\n",
       "      <td>17.213072</td>\n",
       "    </tr>\n",
       "    <tr>\n",
       "      <td>17</td>\n",
       "      <td>16.510826</td>\n",
       "    </tr>\n",
       "    <tr>\n",
       "      <td>18</td>\n",
       "      <td>15.290454</td>\n",
       "    </tr>\n",
       "    <tr>\n",
       "      <td>19</td>\n",
       "      <td>14.221209</td>\n",
       "    </tr>\n",
       "    <tr>\n",
       "      <td>20</td>\n",
       "      <td>13.575900</td>\n",
       "    </tr>\n",
       "    <tr>\n",
       "      <td>21</td>\n",
       "      <td>13.510855</td>\n",
       "    </tr>\n",
       "    <tr>\n",
       "      <td>22</td>\n",
       "      <td>14.231798</td>\n",
       "    </tr>\n",
       "    <tr>\n",
       "      <td>23</td>\n",
       "      <td>13.958471</td>\n",
       "    </tr>\n",
       "  </tbody>\n",
       "</table>"
      ],
      "text/plain": [
       "<IPython.core.display.HTML object>"
      ]
     },
     "metadata": {},
     "output_type": "display_data"
    }
   ],
   "source": [
    "display(HTML(df.toPandas().to_html(index=False)))"
   ]
  },
  {
   "cell_type": "markdown",
   "metadata": {},
   "source": [
    "### Συνάρτηση για δημιουργία `key - value`"
   ]
  },
  {
   "cell_type": "code",
   "execution_count": 8,
   "metadata": {},
   "outputs": [],
   "source": [
    "def id_price(line):\n",
    "    \"\"\"Function to map over RDD lines.\n",
    "    \n",
    "    Produces the necessary tuples for key - value processing.\n",
    "    The id of the trip becomes the key, while the price of\n",
    "    the trip becomes the value.\n",
    "    \n",
    "    Parameters\n",
    "    ----------\n",
    "    \n",
    "    line: string\n",
    "        CSV delimited string from RDD.\n",
    "        \n",
    "    Returns\n",
    "    -------\n",
    "    \n",
    "    idprice: tuple of (string, float)\n",
    "        Key   -> id of trip\n",
    "        Value -> price of trip\n",
    "    \"\"\"\n",
    "    contents = line.split(\",\")\n",
    "    return contents[0], float(contents[7])"
   ]
  },
  {
   "cell_type": "markdown",
   "metadata": {},
   "source": [
    "### Map\n",
    "Εφαρμόζουμε `map` τόσο στο `vendors RDD` όσο και στο `data RDD` ως εξής:\n",
    "* για το `vendors` δημιουργούμε ένα νέο `RDD` με `key` το id της διαδρομής και `value` το id της εταιρείας\n",
    "* για το `data` δημιουργούμε ένα νέο `RDD` με `key` το id της διαδρομής και `value` το ποσό που πληρώθηκε για τη διαδρομή"
   ]
  },
  {
   "cell_type": "code",
   "execution_count": 9,
   "metadata": {},
   "outputs": [],
   "source": [
    "vendors = vendors.map(lambda x: tuple(x.split(\",\")))\n",
    "prices = data.map(id_price)"
   ]
  },
  {
   "cell_type": "markdown",
   "metadata": {},
   "source": [
    "### Inner Join\n",
    "Ενώνουμε τα δύο `RDDs` σε ένα, εφαρμόζοντας inner join πάνω στο id της διαδρομής. Το παραγόμενο `RDD` αποτελείται από ειδική δομή του `PySpark` ονομαζόμενη `Row` και μοιάζει με το αντίστοιχο `dictionary` της `Python`.\n",
    "\n",
    "**Σημείωση**: Χρειάστηκε να μετατρέψουμε τα `RDDs` σε `PySpark DataFrames` για τη βελτιστοποίηση του join."
   ]
  },
  {
   "cell_type": "code",
   "execution_count": 10,
   "metadata": {},
   "outputs": [],
   "source": [
    "vendors = vendors.toDF([\"id\", \"vendor\"])\n",
    "prices = prices.toDF([\"id\", \"price\"])\n",
    "prices = vendors.join(prices, on=\"id\", how=\"inner\")\n",
    "prices = prices.rdd"
   ]
  },
  {
   "cell_type": "markdown",
   "metadata": {},
   "source": [
    "### Εύρεση μέγιστης τιμής ανά εταιρεία\n",
    "* εφαρμόζουμε `map` στο `RDD` για δημιουργία `key - value` με `key` το id της εταιρείας και `value` την τιμή της διαδρομής (το id της διαδρομής πλέον δε μας ενδιαφέρει)\n",
    "* εφαρμόζουμε `reduceByKey` με τη συνάρτηση `max` για να βρούμε το μέγιστο για κάθε εταιρεία"
   ]
  },
  {
   "cell_type": "code",
   "execution_count": 11,
   "metadata": {},
   "outputs": [],
   "source": [
    "prices = prices.map(lambda x: (x[\"vendor\"], x[\"price\"]))\\\n",
    "               .reduceByKey(max)"
   ]
  },
  {
   "cell_type": "markdown",
   "metadata": {},
   "source": [
    "### Αποθήκευση αρχείου στο `HDFS`\n",
    "* μετατρέπουμε το `RDD` σε `PySpark DataFrame` με `headers`\n",
    "* μαζεύουμε σε ένα `partition`\n",
    "* αποθηκεύουμε ως `csv`"
   ]
  },
  {
   "cell_type": "code",
   "execution_count": 12,
   "metadata": {},
   "outputs": [],
   "source": [
    "df = prices.toDF([\"VendorID\", \"MaxAmountPaid\"])\\\n",
    "           .sort(\"VendorID\")\n",
    "df.coalesce(1)\\\n",
    "  .write\\\n",
    "  .csv(\"/Project/MaxAmountPaid\", header=\"true\", mode=\"overwrite\")"
   ]
  },
  {
   "cell_type": "markdown",
   "metadata": {},
   "source": [
    "### Εμφάνιση αποτελεσμάτων"
   ]
  },
  {
   "cell_type": "code",
   "execution_count": 13,
   "metadata": {},
   "outputs": [
    {
     "data": {
      "text/html": [
       "<table border=\"1\" class=\"dataframe\">\n",
       "  <thead>\n",
       "    <tr style=\"text-align: right;\">\n",
       "      <th>VendorID</th>\n",
       "      <th>MaxAmountPaid</th>\n",
       "    </tr>\n",
       "  </thead>\n",
       "  <tbody>\n",
       "    <tr>\n",
       "      <td>1</td>\n",
       "      <td>503326.33</td>\n",
       "    </tr>\n",
       "    <tr>\n",
       "      <td>2</td>\n",
       "      <td>548463.35</td>\n",
       "    </tr>\n",
       "  </tbody>\n",
       "</table>"
      ],
      "text/plain": [
       "<IPython.core.display.HTML object>"
      ]
     },
     "metadata": {},
     "output_type": "display_data"
    }
   ],
   "source": [
    "display(HTML(df.toPandas().to_html(index=False)))"
   ]
  },
  {
   "cell_type": "markdown",
   "metadata": {},
   "source": [
    "<hr>\n",
    "<h1><center>Ερώτημα 2</center></h1>\n",
    "\n",
    "Σε αυτό το ερώτημα θα πρέπει εφαρμόζοντας τον αλγόριθμο `k-Means` να βρούμε τα κέντρα των top 5 περιοχών επιβίβασης."
   ]
  },
  {
   "cell_type": "markdown",
   "metadata": {},
   "source": [
    "### Ορισμός ευκλείδιας απόστασης"
   ]
  },
  {
   "cell_type": "code",
   "execution_count": 14,
   "metadata": {},
   "outputs": [],
   "source": [
    "def euclidean(p, q):\n",
    "    \"\"\"Calculate euclidean distance.\n",
    "    \n",
    "    Formula:\n",
    "    .. math::\n",
    "        \\sqrt{\\sum (p_i - q_i)^2}\n",
    "        \n",
    "    Parameters\n",
    "    ----------\n",
    "    \n",
    "    p: iterable of numbers\n",
    "        Contains the coordinates of the first point.\n",
    "        \n",
    "    q: iterable of numbers\n",
    "        Contains the coordinates of the second point.\n",
    "        \n",
    "    Returns\n",
    "    -------\n",
    "    \n",
    "    euclidean: float\n",
    "    \"\"\"\n",
    "    sum = 0\n",
    "    for pi, qi in zip(p, q):\n",
    "        sum += (pi - qi) ** 2\n",
    "    return sum ** (1 / 2)"
   ]
  },
  {
   "cell_type": "markdown",
   "metadata": {},
   "source": [
    "### Συνάρτηση για δημιουργία συντεταγμένων εκκίνησης"
   ]
  },
  {
   "cell_type": "code",
   "execution_count": 15,
   "metadata": {},
   "outputs": [],
   "source": [
    "def coordinates(line):\n",
    "    \"\"\"Function to map over RDD lines.\n",
    "    \n",
    "    Produces the necessary Coordinates tuples.\n",
    "    \n",
    "    Parameters\n",
    "    ----------\n",
    "    \n",
    "    line: string\n",
    "        CSV delimited string from RDD.\n",
    "        \n",
    "    Returns\n",
    "    -------\n",
    "    \n",
    "    coordinates: tuple of numbers\n",
    "    \"\"\"\n",
    "    contents = line.split(\",\")\n",
    "    lng, lat = map(float, contents[3:5])\n",
    "    return lng, lat"
   ]
  },
  {
   "cell_type": "markdown",
   "metadata": {},
   "source": [
    "### Αρχικοποιήσεις\n",
    "* Εφαρμόζουμε `map` στο `data RDD` δημιουργώντας το `RDD population` αποτελούμενο από συντεταγμένες εκκίνησης σε `tuple`.\n",
    "* `k = 5`, ο αριθμός των top κέντρων που θέλουμε να βρούμε.\n",
    "* `iterations = 3`, ο αλγόριθμος θα κάνει 3 επαναλήψεις.\n",
    "* Βρίσκουμε την αρχική περίπτωση `centroids`, τα οποία θεωρούμε ότι είναι τα πρώτα 5 στο `RDD population`."
   ]
  },
  {
   "cell_type": "code",
   "execution_count": 16,
   "metadata": {},
   "outputs": [],
   "source": [
    "population = data.map(coordinates)\n",
    "k = 5\n",
    "iterations = 3\n",
    "centroids = [(i, c) for i, c in enumerate(population.take(k), 1)]"
   ]
  },
  {
   "cell_type": "markdown",
   "metadata": {},
   "source": [
    "Η παραπάνω αρχικοποίηση των `centroids` θα μπορούσε να είχε γραφεί:\n",
    "```python\n",
    "centroids = list(enumerate(population.take(k), 1))\n",
    "```"
   ]
  },
  {
   "cell_type": "markdown",
   "metadata": {},
   "source": [
    "### Συνάρτηση για εύρεση κοντινότερου κέντρου"
   ]
  },
  {
   "cell_type": "code",
   "execution_count": 17,
   "metadata": {},
   "outputs": [],
   "source": [
    "def closest(coords_centroids):\n",
    "    \"\"\"Find closest centroid.\n",
    "    \n",
    "    Computes the minimum euclidean distance\n",
    "    and saves centroid id.\n",
    "    \n",
    "    Parameters\n",
    "    ----------\n",
    "    \n",
    "    coords_centroids: tuple of tuple, iterable\n",
    "        Tuple contains the tuple of coordinates, as well\n",
    "        as the centroids as an iterable, with each centroid\n",
    "        containing an id and a coordinate.\n",
    "        \n",
    "    Returns\n",
    "    -------\n",
    "    \n",
    "    id_coords: tuple of int, tuple\n",
    "        Tuple containing the id of the closest centroid and\n",
    "        the tuple of coordinates of this point.\n",
    "    \"\"\"\n",
    "    coordinates, centroids = coords_centroids\n",
    "    distance = min(\n",
    "        (\n",
    "            (centroid[0], euclidean(coordinates, centroid[1])) \n",
    "            for centroid in centroids\n",
    "        ),\n",
    "        key=lambda x: x[1]\n",
    "    )\n",
    "    return (distance[0], coordinates)"
   ]
  },
  {
   "cell_type": "markdown",
   "metadata": {},
   "source": [
    "### Συνάρτηση για άθροισμα εμφολευμένων `iterable`"
   ]
  },
  {
   "cell_type": "code",
   "execution_count": 18,
   "metadata": {},
   "outputs": [],
   "source": [
    "def sum_by_elem(p, q):\n",
    "    \"\"\"Function to reduce over RDD values.\n",
    "    \n",
    "    Gets two elements and sums each coordinate.\n",
    "    \n",
    "    Parameters\n",
    "    ----------\n",
    "    \n",
    "    p: tuple of tuple, int\n",
    "        Contains tuple of floats and an int\n",
    "    \n",
    "    q: tuple of tuple, int\n",
    "        Contains tuple of floats and an int\n",
    "    \n",
    "    Returns\n",
    "    -------\n",
    "    \n",
    "    sum_by_elem: tuple of tuple, int\n",
    "        Tuple of floats, int\n",
    "    \"\"\"\n",
    "    p, num1 = p\n",
    "    q, num2 = q\n",
    "    return (tuple(map(sum, zip(p, q))), num1 + num2)"
   ]
  },
  {
   "cell_type": "markdown",
   "metadata": {},
   "source": [
    "### Συνάρτηση για εύρεση μέσου όρου ανά στοιχείο"
   ]
  },
  {
   "cell_type": "code",
   "execution_count": 19,
   "metadata": {},
   "outputs": [],
   "source": [
    "def avg_by_elem(p):\n",
    "    \"\"\"Function to reduce over RDD values.\n",
    "    \n",
    "    Gets an element and averages each coordinate.\n",
    "    \n",
    "    Parameters\n",
    "    ----------\n",
    "    \n",
    "    p: tuple of tuple, int\n",
    "        Contains a tuple with summed by element values, sum of ints\n",
    "    \n",
    "    Returns\n",
    "    -------\n",
    "    \n",
    "    avg_by_elem: tuple of floats\n",
    "        For each tuple element divide with number of elements\n",
    "    \"\"\"\n",
    "    p, num = p\n",
    "    return tuple(map(lambda x: x / num, p))"
   ]
  },
  {
   "cell_type": "markdown",
   "metadata": {},
   "source": [
    "### Κύριος Αλγόριθμος\n",
    "Σε κάθε iteration του αλγορίθμου ακολουθούμε τα εξής βήματα:\n",
    "* εφαρμόζουμε `map` για να δημιουργήσουμε ένα `RDD` με τις συντεταγμένες κάθε σημείου και ένα αντίγραφο των κέντρων\n",
    "* εφαρμόζουμε `map` με τη συνάρτηση `closest` στο παραπάνω `RDD` για να δημιουργήσουμε ένα `RDD` με `key` το id του κοντινότερου cluster και `value` τις συντεταγμένες του σημείου\n",
    "* εφαρμόζουμε `mapValues`-`reduceByKey`-`mapValues` για την εύρεση των νέων κέντρων με βάση τους μέσους όρους ανά συντεταγμένη (η διαδικασία είναι παρόμοια με την εύρεση του μέσου όρου στο ερώτημα 1 με τη διαφορά ότι εδώ βρίσκουμε μέσο όρο σε πολλά στοιχεία ανά στοιχείο)"
   ]
  },
  {
   "cell_type": "code",
   "execution_count": 20,
   "metadata": {},
   "outputs": [],
   "source": [
    "for _ in range(iterations):\n",
    "    population_centroids = population.map(lambda x: (x, centroids))\n",
    "    points_labels = population_centroids.map(closest)\n",
    "    new_centroids = \\\n",
    "        points_labels.mapValues(lambda x: (x, 1))\\\n",
    "                     .reduceByKey(sum_by_elem)\\\n",
    "                     .mapValues(avg_by_elem)\n",
    "    centroids = new_centroids.collect()"
   ]
  },
  {
   "cell_type": "markdown",
   "metadata": {},
   "source": [
    "### Αποθήκευση αρχείου στο `HDFS`\n",
    "* μετατρέπουμε το `RDD` σε `PySpark DataFrame` με `headers`\n",
    "* μαζεύουμε σε ένα `partition`\n",
    "* αποθηκεύουμε ως `csv`"
   ]
  },
  {
   "cell_type": "code",
   "execution_count": 21,
   "metadata": {},
   "outputs": [],
   "source": [
    "centroids = new_centroids.toDF([\"Id\", \"Centroid\"])\n",
    "centroids.withColumn(\"Centroid\", centroids.Centroid.cast(\"string\"))\\\n",
    "         .coalesce(1)\\\n",
    "         .write\\\n",
    "         .csv(\n",
    "              \"/Project/Centroids\",\n",
    "              header=\"true\",\n",
    "              mode=\"overwrite\",\n",
    "              quote=\"\"\n",
    "          )"
   ]
  },
  {
   "cell_type": "markdown",
   "metadata": {},
   "source": [
    "### Εμφάνιση αποτελεσμάτων"
   ]
  },
  {
   "cell_type": "code",
   "execution_count": 23,
   "metadata": {},
   "outputs": [
    {
     "data": {
      "text/html": [
       "<table border=\"1\" class=\"dataframe\">\n",
       "  <thead>\n",
       "    <tr style=\"text-align: right;\">\n",
       "      <th>Id</th>\n",
       "      <th>Centroid</th>\n",
       "    </tr>\n",
       "  </thead>\n",
       "  <tbody>\n",
       "    <tr>\n",
       "      <td>1</td>\n",
       "      <td>(-78.5038663350961, 40.61111272363974)</td>\n",
       "    </tr>\n",
       "    <tr>\n",
       "      <td>2</td>\n",
       "      <td>(-0.000130403195932698, 0.0005087396653170571)</td>\n",
       "    </tr>\n",
       "    <tr>\n",
       "      <td>3</td>\n",
       "      <td>(-73.95393670658325, 40.69903130538949)</td>\n",
       "    </tr>\n",
       "    <tr>\n",
       "      <td>4</td>\n",
       "      <td>(-73.9921679218484, 40.742681085334965)</td>\n",
       "    </tr>\n",
       "    <tr>\n",
       "      <td>5</td>\n",
       "      <td>(-73.96113225987052, 40.77182523315749)</td>\n",
       "    </tr>\n",
       "  </tbody>\n",
       "</table>"
      ],
      "text/plain": [
       "<IPython.core.display.HTML object>"
      ]
     },
     "metadata": {},
     "output_type": "display_data"
    }
   ],
   "source": [
    "display(HTML(centroids.toPandas().to_html(index=False)))"
   ]
  }
 ],
 "metadata": {
  "kernelspec": {
   "display_name": "Python 3",
   "language": "python",
   "name": "python3"
  },
  "language_info": {
   "codemirror_mode": {
    "name": "ipython",
    "version": 3
   },
   "file_extension": ".py",
   "mimetype": "text/x-python",
   "name": "python",
   "nbconvert_exporter": "python",
   "pygments_lexer": "ipython3",
   "version": "3.5.2"
  }
 },
 "nbformat": 4,
 "nbformat_minor": 2
}
